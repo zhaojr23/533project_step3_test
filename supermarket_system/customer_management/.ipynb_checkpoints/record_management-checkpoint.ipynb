{
 "cells": [
  {
   "cell_type": "code",
   "execution_count": 7,
   "id": "384074b7-f5ea-4cfd-889c-2526dce18893",
   "metadata": {},
   "outputs": [],
   "source": [
    "class record():\n",
    "    def __init__(self):\n",
    "        self.history={}\n",
    "    def add_record(self,customerId,items,totalprice,profit):\n",
    "        if customerId not in self.history:\n",
    "            self.history[customerId]\n",
    "\n",
    "        purchase_details = {\n",
    "            \"date\": datetime.datetime.now().strftime(\"%Y-%m-%d %H:%M:%S\"), \n",
    "            \"items\": items, \n",
    "            \"total_price\": totalprice,\n",
    "            \"status\": \"Paid\",\n",
    "             \"profit\" : profit\n",
    "        }\n",
    "        self.history[memberId].append(purchase_details)\n",
    "\n",
    "    def get_history(self, memberId):\n",
    "        records = self.history.get(member_id, [])\n",
    "        print( [[record[\"date\"], record[\"items\"], record[\"total_price\"],record[\"status\"]] for record in records])\n",
    "\n",
    "    def get_total(self,memberId):\n",
    "        if memberId not in self.history:\n",
    "            return 0\n",
    "        total_spent = 0\n",
    "        total_count=0\n",
    "        for record in self.history['memberId']:\n",
    "            total_spend += record['total_price']\n",
    "            total_count += 1\n",
    "        print(f\"total count:{total_count},total spent: {total_spent}\")\n",
    "\n",
    "    def supermaket_situation(self):\n",
    "        visits=0\n",
    "        sale=0\n",
    "        for key, record in self.history.items():\n",
    "            visits += 1\n",
    "            sale += record[\"total_price\"]\n",
    "            profit += record[\"profit\"]\n",
    "        print(f\"total visits: {visits},total sales:{sale}, total profit: {profit}\")\n",
    "            "
   ]
  },
  {
   "cell_type": "code",
   "execution_count": null,
   "id": "ae5b0a63-1691-4cc6-bc76-a764be4cabbd",
   "metadata": {},
   "outputs": [],
   "source": []
  }
 ],
 "metadata": {
  "kernelspec": {
   "display_name": "Python 3 (ipykernel)",
   "language": "python",
   "name": "python3"
  },
  "language_info": {
   "codemirror_mode": {
    "name": "ipython",
    "version": 3
   },
   "file_extension": ".py",
   "mimetype": "text/x-python",
   "name": "python",
   "nbconvert_exporter": "python",
   "pygments_lexer": "ipython3",
   "version": "3.12.4"
  }
 },
 "nbformat": 4,
 "nbformat_minor": 5
}
