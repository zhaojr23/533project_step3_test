{
 "cells": [
  {
   "cell_type": "code",
   "execution_count": 6,
   "id": "db80008c-3fe9-4331-9d76-c20819e2d9c5",
   "metadata": {},
   "outputs": [],
   "source": [
    "class purchase():\n",
    "    def __init__(self,membership):\n",
    "        self.purchases=[]\n",
    "        self.customerId = membership\n",
    "    def display(self,sales):\n",
    "        sales.display()\n",
    "    def choose(self,membership,sales):\n",
    "        while(True):\n",
    "            sales.display()\n",
    "            productId = input (\"Enter the product id to add to your cart (or 'exit' to stop)::\")\n",
    "            if productId.lower() == 'exit':\n",
    "                print(\"Exiting the add-to-cart process.\")\n",
    "                break\n",
    "            \n",
    "            if productId not in sales:\n",
    "                print(\"Sorry, the product code is not valid.\")\n",
    "                continue\n",
    "            quantity = int(input(f\"Enter the quantity for {sales[productId]['name']}: \"))\n",
    "            \n",
    "            if sales[productId][\"quantity\"] < quantity:\n",
    "                print(\"Sorry, insufficient stock on the shelf.\")\n",
    "            else:\n",
    "                self.purchases.append({\n",
    "                    \"name\": sales[productId][\"name\"],\n",
    "                    \"price\": sales[productId][\"sprice\"],\n",
    "                    \"quantity\": quantity,\n",
    "                     \"pprice\" : sales[productId][\"pprice\"]\n",
    "                })\n",
    "                sales[productId][\"quantity\"] -= quantity\n",
    "                print(f\"{quantity} x {sales[productId]['name']} added to your cart.\")\n",
    "    \n",
    "    def checkout(self):\n",
    "         if not self.purchases:\n",
    "            return \"Your cart is empty\"\n",
    "        \n",
    "         total_price = 0\n",
    "         profit = 0\n",
    "         print(\"Items in your cart:\")\n",
    "         for item in self.purchases:\n",
    "             total_price += item[\"price\"] * item[\"quantity\"]\n",
    "             profit += (item[\"price\"]-item[\"pprice\"]) * item[\"quantity\"]\n",
    "             print(f\"{item['name']} - Quantity: {item['quantity']}, Price: {item['price']}, Total: {item['price'] * item['quantity']}\")\n",
    "        \n",
    "         print(f\"Total Price: {total_price}\")\n",
    "\n",
    "         self.record.add_record(self.customerId, self.items, totalprice, profit)\n",
    "        \n",
    "         self.customers = []"
   ]
  },
  {
   "cell_type": "code",
   "execution_count": null,
   "id": "ff6be9fb-945d-4962-9548-8d4893d08be1",
   "metadata": {},
   "outputs": [],
   "source": []
  }
 ],
 "metadata": {
  "kernelspec": {
   "display_name": "Python 3 (ipykernel)",
   "language": "python",
   "name": "python3"
  },
  "language_info": {
   "codemirror_mode": {
    "name": "ipython",
    "version": 3
   },
   "file_extension": ".py",
   "mimetype": "text/x-python",
   "name": "python",
   "nbconvert_exporter": "python",
   "pygments_lexer": "ipython3",
   "version": "3.12.4"
  }
 },
 "nbformat": 4,
 "nbformat_minor": 5
}
