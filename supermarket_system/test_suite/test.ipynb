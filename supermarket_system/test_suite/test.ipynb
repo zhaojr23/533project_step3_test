{
 "cells": [
  {
   "cell_type": "code",
   "execution_count": 2,
   "id": "3c0e857b-9a9f-4461-93fb-735270cf557f",
   "metadata": {},
   "outputs": [
    {
     "name": "stderr",
     "output_type": "stream",
     "text": [
      ".............\n",
      "----------------------------------------------------------------------\n",
      "Ran 13 tests in 0.008s\n",
      "\n",
      "OK\n"
     ]
    },
    {
     "name": "stdout",
     "output_type": "stream",
     "text": [
      "TestPurchase: SetupClass executed.\n",
      "TestPurchase: Setup executed.\n",
      "001 Apple 10 5\n",
      "2 x Apple added to your cart.\n",
      "001 Apple 8 5\n",
      "1 x Apple remove from your cart.\n",
      "001 Apple 9 5\n",
      "Exiting the add-to-cart process.\n",
      "TestPurchase: TearDown executed.\n",
      "On shelves or wrong productId or quantity is too large\n",
      "TestPurchase: Setup executed.\n",
      "001 Apple 9 5\n",
      "2 x Apple added to your cart.\n",
      "001 Apple 7 5\n",
      "Exiting the add-to-cart process.\n",
      "Items in your cart:\n",
      "Apple - Quantity: 2, Price: 5, Total: 10\n",
      "Total Price: 10\n",
      "TestPurchase: TearDown executed.\n",
      "TestPurchase: TearDownClass executed.\n",
      "TestRecord: SetupClass executed.\n",
      "TestRecord: Setup executed.\n",
      "TestRecord: TearDown executed.\n",
      "TestRecord: Setup executed.\n",
      "[['2024-12-09 14:58:58', [{'name': 'Apple', 'price': 5, 'quantity': 2}], 10, 'Paid'], ['2024-12-09 14:58:58', [{'name': 'Banana', 'price': 2, 'quantity': 3}], 6, 'Paid']]\n",
      "TestRecord: TearDown executed.\n",
      "TestRecord: Setup executed.\n",
      "total count:4,total spent: 38\n",
      "TestRecord: TearDown executed.\n",
      "TestRecord: TearDownClass executed.\n",
      "Setting up TestWarehouse Class...\n",
      "Setting up for a test...\n",
      "Tearing down after a test...\n",
      "Setting up for a test...\n",
      "Tearing down after a test...\n",
      "Setting up for a test...\n",
      "001 Milk Dairy 2.5 2024-11-26 100\n",
      "002 Eggs Dairy 5.0 2024-11-27 200\n",
      "Tearing down after a test...\n",
      "Tearing down TestWarehouse Class...\n",
      "Setting up TestSales Class...\n",
      "Setting up for a test...\n",
      "Tearing down after a test...\n",
      "Setting up for a test...\n",
      "Tearing down after a test...\n",
      "Setting up for a test...\n",
      "Tearing down after a test...\n",
      "Setting up for a test...\n",
      "Tearing down after a test...\n",
      "Setting up for a test...\n",
      "001 Milk 50 3.0\n",
      "Tearing down after a test...\n",
      "Tearing down TestSales Class...\n",
      "<unittest.runner.TextTestResult run=13 errors=0 failures=0>\n"
     ]
    }
   ],
   "source": [
    "import unittest\n",
    "import sys\n",
    "sys.path.append('../../')\n",
    "from supermarket_system.customer_management.purchase_test import TestPurchase\n",
    "from supermarket_system.customer_management.record_test import TestRecord\n",
    "from supermarket_system.product_management.warehouse_test import TestWarehouse\n",
    "from supermarket_system.product_management.sales_test import TestSales\n",
    "\n",
    "def my_suite():\n",
    "    suite = unittest.TestSuite()\n",
    "    result = unittest.TestResult()\n",
    "    suite.addTest(TestPurchase('test_add_and_remove_from_cart'))\n",
    "    suite.addTest(TestPurchase('test_checkout'))\n",
    "    suite.addTest(TestRecord('test_add_record'))\n",
    "    suite.addTest(TestRecord('test_get_history'))\n",
    "    suite.addTest(TestRecord('test_get_total'))\n",
    "    suite.addTest(TestWarehouse(\"test_add_product\"))\n",
    "    suite.addTest(TestWarehouse(\"test_remove_product\"))\n",
    "    suite.addTest(TestWarehouse(\"test_display\"))\n",
    "    suite.addTest(TestSales(\"test_add_newproduct\"))\n",
    "    suite.addTest(TestSales(\"test_increase_quantity\"))\n",
    "    suite.addTest(TestSales(\"test_decrease_quantity\"))\n",
    "    suite.addTest(TestSales(\"test_change_price\"))\n",
    "    suite.addTest(TestSales(\"test_display\"))\n",
    "\n",
    "    \n",
    "\n",
    "    runner = unittest.TextTestRunner()\n",
    "    print(runner.run(suite))\n",
    "my_suite()\n"
   ]
  },
  {
   "cell_type": "code",
   "execution_count": null,
   "id": "ebd9110a-7767-41e8-b419-22474c101565",
   "metadata": {},
   "outputs": [],
   "source": []
  }
 ],
 "metadata": {
  "kernelspec": {
   "display_name": "Python 3 (ipykernel)",
   "language": "python",
   "name": "python3"
  },
  "language_info": {
   "codemirror_mode": {
    "name": "ipython",
    "version": 3
   },
   "file_extension": ".py",
   "mimetype": "text/x-python",
   "name": "python",
   "nbconvert_exporter": "python",
   "pygments_lexer": "ipython3",
   "version": "3.11.9"
  }
 },
 "nbformat": 4,
 "nbformat_minor": 5
}
