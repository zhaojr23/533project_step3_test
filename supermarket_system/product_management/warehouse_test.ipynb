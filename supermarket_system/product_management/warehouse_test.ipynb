{
 "cells": [
  {
   "cell_type": "code",
   "execution_count": 12,
   "metadata": {},
   "outputs": [
    {
     "name": "stderr",
     "output_type": "stream",
     "text": [
      "test_add_product (__main__.TestWarehouse.test_add_product) ... ok\n",
      "test_display (__main__.TestWarehouse.test_display) ... ok\n",
      "test_remove_product (__main__.TestWarehouse.test_remove_product) ... ok\n",
      "\n",
      "----------------------------------------------------------------------\n",
      "Ran 3 tests in 0.004s\n",
      "\n",
      "OK\n"
     ]
    },
    {
     "name": "stdout",
     "output_type": "stream",
     "text": [
      "Setting up TestWarehouse Class...\n",
      "Setting up for a test...\n",
      "Tearing down after a test...\n",
      "Setting up for a test...\n",
      "001 Milk Dairy 2.5 2024-11-26 100\n",
      "002 Eggs Dairy 5.0 2024-11-27 200\n",
      "Tearing down after a test...\n",
      "Setting up for a test...\n",
      "Tearing down after a test...\n",
      "Tearing down TestWarehouse Class...\n"
     ]
    }
   ],
   "source": [
    "import unittest\n",
    "from warehouse_management import warehouse\n",
    "\n",
    "\n",
    "class TestWarehouse(unittest.TestCase): \n",
    "    @classmethod\n",
    "    def setUpClass(cls):\n",
    "        print(\"Setting up TestWarehouse Class...\")\n",
    "        cls.warehouse = warehouse()\n",
    "\n",
    "    @classmethod\n",
    "    def tearDownClass(cls):\n",
    "        print(\"Tearing down TestWarehouse Class...\")\n",
    "        del cls.warehouse\n",
    "\n",
    "    def setUp(self):\n",
    "        print(\"Setting up for a test...\")\n",
    "        self.warehouse = warehouse()\n",
    "        self.warehouse.add_product(\"001\", \"Milk\", \"Dairy\", 2.5, \"2024-11-26\", 100)\n",
    "\n",
    "    def tearDown(self):\n",
    "        print(\"Tearing down after a test...\")\n",
    "        del self.warehouse\n",
    "\n",
    "    def test_add_product(self):\n",
    "        self.warehouse.add_product(\"002\", \"Bread\", \"Bakery\", 3.0, \"2024-11-27\", 50)\n",
    "        self.assertIn(\"002\", self.warehouse.products)\n",
    "        self.assertEqual(self.warehouse.products[\"002\"][\"quantity\"], 50)\n",
    "        self.assertEqual(self.warehouse.products[\"002\"][\"name\"], \"Bread\")\n",
    "        self.assertEqual(len(self.warehouse.products), 2)\n",
    "\n",
    "    def test_remove_product(self):\n",
    "        self.warehouse.remove_product(\"001\", 50)\n",
    "        self.assertEqual(self.warehouse.products[\"001\"][\"quantity\"], 50)\n",
    "\n",
    "        self.warehouse.remove_product(\"001\", 50)\n",
    "        self.assertNotIn(\"001\", self.warehouse.products)\n",
    "\n",
    "        #with self.assertLogs(level='WARNING') as log:\n",
    "         #   self.warehouse.remove_product(\"002\", 10)  # Attempt to remove non-existent product\n",
    "          #  self.assertIn(\"There is no this product\", log.output[0])\n",
    "\n",
    "    def test_display(self):\n",
    "        self.warehouse.add_product(\"002\", \"Eggs\", \"Dairy\", 5.0, \"2024-11-27\", 200)\n",
    "        self.warehouse.display()\n",
    "        self.assertIn(\"001\", self.warehouse.products)\n",
    "        self.assertIn(\"002\", self.warehouse.products)\n",
    "\n",
    "\n",
    "def run_tests():\n",
    "    suite = unittest.TestLoader().loadTestsFromTestCase(TestWarehouse)\n",
    "    unittest.TextTestRunner(verbosity=2).run(suite)\n",
    "\n",
    "run_tests()"
   ]
  }
 ],
 "metadata": {
  "kernelspec": {
   "display_name": "base",
   "language": "python",
   "name": "python3"
  },
  "language_info": {
   "codemirror_mode": {
    "name": "ipython",
    "version": 3
   },
   "file_extension": ".py",
   "mimetype": "text/x-python",
   "name": "python",
   "nbconvert_exporter": "python",
   "pygments_lexer": "ipython3",
   "version": "3.11.9"
  }
 },
 "nbformat": 4,
 "nbformat_minor": 2
}
