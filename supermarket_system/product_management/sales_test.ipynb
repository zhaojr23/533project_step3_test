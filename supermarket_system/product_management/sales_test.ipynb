{
 "cells": [
  {
   "cell_type": "code",
   "execution_count": 8,
   "metadata": {},
   "outputs": [
    {
     "ename": "ModuleNotFoundError",
     "evalue": "No module named 'supermarket_system'",
     "output_type": "error",
     "traceback": [
      "\u001b[0;31m---------------------------------------------------------------------------\u001b[0m",
      "\u001b[0;31mModuleNotFoundError\u001b[0m                       Traceback (most recent call last)",
      "Cell \u001b[0;32mIn[8], line 2\u001b[0m\n\u001b[1;32m      1\u001b[0m \u001b[38;5;28;01mimport\u001b[39;00m \u001b[38;5;21;01munittest\u001b[39;00m\n\u001b[0;32m----> 2\u001b[0m \u001b[38;5;28;01mfrom\u001b[39;00m \u001b[38;5;21;01msupermarket_system\u001b[39;00m\u001b[38;5;21;01m.\u001b[39;00m\u001b[38;5;21;01mproduct_management\u001b[39;00m\u001b[38;5;21;01m.\u001b[39;00m\u001b[38;5;21;01mwarehouse_management\u001b[39;00m \u001b[38;5;28;01mimport\u001b[39;00m warehouse\n\u001b[1;32m      3\u001b[0m \u001b[38;5;28;01mfrom\u001b[39;00m \u001b[38;5;21;01m.\u001b[39;00m\u001b[38;5;21;01msales_management\u001b[39;00m \u001b[38;5;28;01mimport\u001b[39;00m sales\n\u001b[1;32m      6\u001b[0m \u001b[38;5;28;01mclass\u001b[39;00m \u001b[38;5;21;01mTestSales\u001b[39;00m(unittest\u001b[38;5;241m.\u001b[39mTestCase):\n",
      "\u001b[0;31mModuleNotFoundError\u001b[0m: No module named 'supermarket_system'"
     ]
    }
   ],
   "source": [
    "import unittest\n",
    "from supermarket_system.product_management.warehouse_management import warehouse\n",
    "from .sales_management import sales\n",
    "\n",
    "\n",
    "class TestSales(unittest.TestCase):\n",
    "    @classmethod\n",
    "    def setUpClass(cls):\n",
    "        print(\"Setting up TestSales Class...\")\n",
    "        cls.warehouse = warehouse()\n",
    "        cls.sales = sales(cls.warehouse)\n",
    "\n",
    "    @classmethod\n",
    "    def tearDownClass(cls):\n",
    "        print(\"Tearing down TestSales Class...\")\n",
    "        del cls.sales\n",
    "        del cls.warehouse\n",
    "    \n",
    "    def setUp(self):\n",
    "        print(\"Setting up for a test...\")\n",
    "        self.warehouse = warehouse()\n",
    "        self.sales = sales(self.warehouse)\n",
    "        self.warehouse.add_product(\"001\", \"Milk\", \"Dairy\", 2.5, \"2024-11-26\", 100)\n",
    "        self.warehouse.add_product(\"002\", \"Eggs\", \"Dairy\", 5.0, \"2024-11-27\", 200)\n",
    "\n",
    "    def tearDown(self):\n",
    "        print(\"Tearing down after a test...\")\n",
    "        del self.sales\n",
    "        del self.warehouse\n",
    "\n",
    "    def test_add_newproduct(self):\n",
    "        self.sales.add_newproduct(\"001\", 50, 3.0)\n",
    "        self.assertIn(\"001\", self.sales.shelves)\n",
    "        self.assertEqual(self.sales.shelves[\"001\"][\"quantity\"], 50)\n",
    "        self.assertEqual(self.sales.shelves[\"001\"][\"sprice\"], 3.0)\n",
    "        self.assertEqual(self.warehouse.products[\"001\"][\"quantity\"], 50)\n",
    "\n",
    "    def test_increase_quantity(self):\n",
    "        self.sales.add_newproduct(\"001\", 50, 3.0)\n",
    "        self.sales.increase_quantity(\"001\", 20)\n",
    "        self.assertEqual(self.sales.shelves[\"001\"][\"quantity\"], 70)\n",
    "        self.assertEqual(self.warehouse.products[\"001\"][\"quantity\"], 30)  # Reduced in warehouse\n",
    "\n",
    "    def test_decrease_quantity(self):\n",
    "        self.sales.add_newproduct(\"001\", 50, 3.0)\n",
    "        self.sales.decrease_quantity(\"001\", 20)\n",
    "        self.assertEqual(self.sales.shelves[\"001\"][\"quantity\"], 30)\n",
    "        self.assertEqual(self.warehouse.products[\"001\"][\"quantity\"], 70)  # Returned to warehouse\n",
    "\n",
    "    def test_change_price(self):\n",
    "        self.sales.add_newproduct(\"001\", 50, 3.0)\n",
    "        self.sales.change_price(\"001\", 4.0)\n",
    "        self.assertEqual(self.sales.shelves[\"001\"][\"sprice\"], 4.0)\n",
    "        self.assertIn(\"001\", self.sales.shelves)\n",
    "\n",
    "    def test_display(self):\n",
    "        self.sales.add_newproduct(\"001\", 50, 3.0)\n",
    "        self.sales.display()\n",
    "        self.assertIn(\"001\", self.sales.shelves)\n",
    "        self.assertEqual(self.sales.shelves[\"001\"][\"name\"], \"Milk\")\n",
    "        self.assertEqual(self.sales.shelves[\"001\"][\"quantity\"], 50)\n",
    "        self.assertEqual(self.sales.shelves[\"001\"][\"sprice\"], 3.0)\n",
    "\n",
    "\n",
    "\n",
    "\n",
    "def run_tests():\n",
    "    suite = unittest.TestLoader().loadTestsFromTestCase(TestSales)\n",
    "    unittest.TextTestRunner(verbosity=2).run(suite)\n",
    "\n",
    "run_tests()\n",
    "\n",
    "    "
   ]
  }
 ],
 "metadata": {
  "kernelspec": {
   "display_name": "base",
   "language": "python",
   "name": "python3"
  },
  "language_info": {
   "codemirror_mode": {
    "name": "ipython",
    "version": 3
   },
   "file_extension": ".py",
   "mimetype": "text/x-python",
   "name": "python",
   "nbconvert_exporter": "python",
   "pygments_lexer": "ipython3",
   "version": "3.11.9"
  }
 },
 "nbformat": 4,
 "nbformat_minor": 2
}
