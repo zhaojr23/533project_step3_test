{
 "cells": [
  {
   "cell_type": "code",
   "execution_count": 1,
   "id": "60f9af11-596c-480a-9b04-c7f4c8a69cce",
   "metadata": {},
   "outputs": [],
   "source": [
    "class sales():\n",
    "    def __init__(self,product):\n",
    "        self.shelves={}\n",
    "        self.product = product\n",
    "    def add_newproduct(self, productId, quantity, saleprice):\n",
    "        if productId in self.product.products and quantity <= self.product.products[productId][\"quantity\"]:\n",
    "            self.shelves[productId]={\n",
    "                \"name\": self.product.products[productId][\"name\"],\n",
    "                \"quantity\": quantity,\n",
    "                \"sprice\" : saleprice\n",
    "            }\n",
    "            self.product.remove_product(productId, quantity)\n",
    "        else:\n",
    "            print(\"Wrong productId or quantity is too large\")\n",
    "\n",
    "    def increase_quantity(self, productId, quantity):\n",
    "        if productId in self.shelves and quantity <= self.product.products[productId][\"quantity\"]:\n",
    "            self.shelves[productId][\"quantity\"] += quantity\n",
    "            self.product.remove_products(productId, quantity)\n",
    "        else:\n",
    "            print(\"This product is not on the shelves\")\n",
    "\n",
    "    def decrease_quantity(self, productId, quantity):\n",
    "        if productId in self.shelves and quantity <= self.shelves[productId][\"quantity\"]:\n",
    "            self.shelves[productId][\"quantity\"] += quantity\n",
    "            self.product.products[productId][\"quantity\"] += quantity\n",
    "        else:\n",
    "            print(\"This product is not on the shelves\")\n",
    "    def change_price(self, productId, newprice):\n",
    "        if productId in self.shelves:\n",
    "            self.shelves[productId][\"sprice\"] = newprice\n",
    "        else:\n",
    "            print(\"This product is not on the shelves\")\n",
    "    def display(self):\n",
    "         for id, product in self.shelves.items():\n",
    "            print(id, product['name'], product['quantity'], product['sprice'])"
   ]
  },
  {
   "cell_type": "code",
   "execution_count": null,
   "id": "7a9d52d0-20b7-4606-a306-50a170e7708f",
   "metadata": {},
   "outputs": [],
   "source": []
  }
 ],
 "metadata": {
  "kernelspec": {
   "display_name": "Python 3 (ipykernel)",
   "language": "python",
   "name": "python3"
  },
  "language_info": {
   "codemirror_mode": {
    "name": "ipython",
    "version": 3
   },
   "file_extension": ".py",
   "mimetype": "text/x-python",
   "name": "python",
   "nbconvert_exporter": "python",
   "pygments_lexer": "ipython3",
   "version": "3.11.9"
  }
 },
 "nbformat": 4,
 "nbformat_minor": 5
}
