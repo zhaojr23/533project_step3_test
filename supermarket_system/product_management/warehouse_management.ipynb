{
 "cells": [
  {
   "cell_type": "code",
   "execution_count": 101,
   "id": "2b2c34de-8b67-42b2-a72c-65b8e4060887",
   "metadata": {},
   "outputs": [],
   "source": [
    "class warehouse():\n",
    "    def __init__(self):\n",
    "        self.products={}\n",
    "    def add_product(self,productId, productname, category, purchaseprice, entrydate, quantity):\n",
    "        if productId in self.products:\n",
    "            self.products[productId][\"quantity\"] += quantity\n",
    "        else:\n",
    "            self.products[productId]={\n",
    "                \"name\": productname,\n",
    "                \"category\": category,\n",
    "                \"pprice\" : purchaseprice,\n",
    "                \"edate\" : entrydate,\n",
    "                \"quantity\" : quantity\n",
    "            }\n",
    "    def remove_product(self, productId, quantity):\n",
    "        if productId in self.products and self.products[productId][\"quantity\"] >= quantity:\n",
    "            self.products[productId][\"quantity\"] -= quantity\n",
    "            if self.products[productId][\"quantity\"] == 0:\n",
    "                del self.products[productId]\n",
    "        else:\n",
    "            print(\"There is no this product or the quantity is greater than the quantity in warehouse\")\n",
    "    def display(self):\n",
    "        for id, product in self.products.items():\n",
    "            print(id, product['name'], product['category'], product['pprice'], product['edate'], product['quantity'])\n",
    "\n",
    "        \n",
    "            "
   ]
  }
 ],
 "metadata": {
  "kernelspec": {
   "display_name": "Python 3 (ipykernel)",
   "language": "python",
   "name": "python3"
  },
  "language_info": {
   "codemirror_mode": {
    "name": "ipython",
    "version": 3
   },
   "file_extension": ".py",
   "mimetype": "text/x-python",
   "name": "python",
   "nbconvert_exporter": "python",
   "pygments_lexer": "ipython3",
   "version": "3.12.4"
  }
 },
 "nbformat": 4,
 "nbformat_minor": 5
}
