{
 "cells": [
  {
   "cell_type": "code",
   "execution_count": 1,
   "id": "9e03c1a8-1f75-4a31-86e6-b5c16ca67992",
   "metadata": {
    "scrolled": true
   },
   "outputs": [
    {
     "name": "stdout",
     "output_type": "stream",
     "text": [
      "001 Milk 50 3.0\n",
      "002 Eggs 30 15.5\n",
      "Menu\n",
      "001 Milk 50 3.0\n",
      "002 Eggs 30 15.5\n"
     ]
    },
    {
     "name": "stdin",
     "output_type": "stream",
     "text": [
      "Do you want to add(A) to or delete(D) some goods from your cart?(or 'exit' to stop) A\n",
      "Enter the product id to add to your cart: 001\n",
      "Enter the quantity for Milk:  20\n"
     ]
    },
    {
     "name": "stdout",
     "output_type": "stream",
     "text": [
      "20 x Milk added to your cart.\n",
      "001 Milk 30 3.0\n",
      "002 Eggs 30 15.5\n"
     ]
    },
    {
     "name": "stdin",
     "output_type": "stream",
     "text": [
      "Do you want to add(A) to or delete(D) some goods from your cart?(or 'exit' to stop) D\n",
      "Enter the product id to remove from your cart: 003\n"
     ]
    },
    {
     "name": "stdout",
     "output_type": "stream",
     "text": [
      "There is no that goods in your cart \n",
      "001 Milk 30 3.0\n",
      "002 Eggs 30 15.5\n"
     ]
    },
    {
     "name": "stdin",
     "output_type": "stream",
     "text": [
      "Do you want to add(A) to or delete(D) some goods from your cart?(or 'exit' to stop) A\n",
      "Enter the product id to add to your cart: 002\n",
      "Enter the quantity for Eggs:  1\n"
     ]
    },
    {
     "name": "stdout",
     "output_type": "stream",
     "text": [
      "1 x Eggs added to your cart.\n",
      "001 Milk 30 3.0\n",
      "002 Eggs 29 15.5\n"
     ]
    },
    {
     "name": "stdin",
     "output_type": "stream",
     "text": [
      "Do you want to add(A) to or delete(D) some goods from your cart?(or 'exit' to stop) exit\n"
     ]
    },
    {
     "name": "stdout",
     "output_type": "stream",
     "text": [
      "Exiting the add-to-cart process.\n",
      "Items in your cart:\n",
      "Milk - Quantity: 20, Price: 3.0, Total: 60.0\n",
      "Eggs - Quantity: 1, Price: 15.5, Total: 15.5\n",
      "Total Price: 75.5\n",
      "[['2024-11-29 15:02:59', [{'name': 'Milk', 'price': 3.0, 'quantity': 20, 'pprice': 2.5}, {'name': 'Eggs', 'price': 15.5, 'quantity': 1, 'pprice': 10.5}], 75.5, 'Paid']]\n",
      "total count:1,total spent: 75.5\n",
      "total visits: 1,total sales:75.5, total profit: 15.0, most popular product:Milk with quantity of 20\n"
     ]
    }
   ],
   "source": [
    "# tests/test_supermarket.py\n",
    "\n",
    "from supermarket_system.product_management.warehouse_management import warehouse\n",
    "from supermarket_system.product_management.sales_management import sales\n",
    "from supermarket_system.customer_management.purchase_management import purchase\n",
    "from supermarket_system.customer_management.records_management import record\n",
    "\n",
    "def test_product_management():\n",
    "    product = warehouse()\n",
    "\n",
    "    # Adding product to warehouse\n",
    "    product.add_product(\"001\", \"Milk\", \"Dairy\", 2.5, \"2024-11-26\", 100)\n",
    "\n",
    "    # Display warehouse inventory\n",
    "    product.display()\n",
    "\n",
    "    # Removing product from warehouse\n",
    "    product.remove_product(\"001\", 5)\n",
    "    product.display()\n",
    "\n",
    "def test_sales_management():\n",
    "    product = warehouse()\n",
    "    # Adding product to warehouse\n",
    "    product.add_product(\"001\", \"Milk\", \"Dairy\", 2.5, \"2024-11-26\", 100)\n",
    "    shelf = sales(product)\n",
    "    shelf.add_newproduct(\"001\", 50, 3.0)\n",
    "\n",
    "    # Display shelf products\n",
    "    shelf.display()\n",
    "\n",
    "    # Modify price\n",
    "    shelf.change_price(\"001\", 3.5)\n",
    "    shelf.display()\n",
    "\n",
    "def test_customer_management():\n",
    "    product = warehouse()\n",
    "    # Adding product to warehouse\n",
    "    product.add_product(\"001\", \"Milk\", \"Dairy\", 2.5, \"2024-11-26\", 100)\n",
    "    product.add_product(\"002\", \"Eggs\", \"Dairy\", 10.5, \"2024-11-26\", 100)\n",
    "    shelf = sales(product)\n",
    "    shelf.add_newproduct(\"001\", 50, 3.0)\n",
    "    shelf.add_newproduct(\"002\", 30, 15.5)\n",
    "    history = record()\n",
    "    customer = purchase(\"C001\",history)\n",
    "    customer.display(shelf)\n",
    "    print(\"Menu\")\n",
    "    customer.choose(\"C001\",shelf)\n",
    "    # Checkout\n",
    "    customer.checkout()\n",
    "    history.get_history('C001')\n",
    "    history.get_total('C001')\n",
    "    history.supermarket_situation()\n",
    "\n",
    "if __name__ == \"__main__\":\n",
    "    test_customer_management()\n"
   ]
  },
  {
   "cell_type": "code",
   "execution_count": null,
   "id": "2f328392-4cc8-4576-a1f3-f3c206355653",
   "metadata": {},
   "outputs": [],
   "source": []
  },
  {
   "cell_type": "code",
   "execution_count": null,
   "id": "bd2fd03e-f906-401b-8fd4-458aa387c6ad",
   "metadata": {},
   "outputs": [],
   "source": []
  }
 ],
 "metadata": {
  "kernelspec": {
   "display_name": "Python 3 (ipykernel)",
   "language": "python",
   "name": "python3"
  },
  "language_info": {
   "codemirror_mode": {
    "name": "ipython",
    "version": 3
   },
   "file_extension": ".py",
   "mimetype": "text/x-python",
   "name": "python",
   "nbconvert_exporter": "python",
   "pygments_lexer": "ipython3",
   "version": "3.12.4"
  }
 },
 "nbformat": 4,
 "nbformat_minor": 5
}
